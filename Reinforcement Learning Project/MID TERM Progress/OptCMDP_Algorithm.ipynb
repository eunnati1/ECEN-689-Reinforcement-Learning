{
  "nbformat": 4,
  "nbformat_minor": 0,
  "metadata": {
    "anaconda-cloud": {},
    "colab": {
      "name": "OptCMDP Algorithm.ipynb",
      "provenance": [],
      "collapsed_sections": []
    },
    "kernelspec": {
      "display_name": "Python 3",
      "language": "python",
      "name": "python3"
    },
    "language_info": {
      "codemirror_mode": {
        "name": "ipython",
        "version": 3
      },
      "file_extension": ".py",
      "mimetype": "text/x-python",
      "name": "python",
      "nbconvert_exporter": "python",
      "pygments_lexer": "ipython3",
      "version": "3.7.6"
    },
    "accelerator": "GPU"
  },
  "cells": [
    {
      "cell_type": "code",
      "metadata": {
        "id": "W7QO_5_9DIoI"
      },
      "source": [
        "import numpy as np\n",
        "import itertools\n",
        "import math\n",
        "import statistics as stat\n",
        "import matplotlib.pyplot as plt\n",
        "import pdb\n",
        "from scipy.optimize import linprog"
      ],
      "execution_count": 11,
      "outputs": []
    },
    {
      "cell_type": "code",
      "metadata": {
        "id": "tNUXSJfwkORy"
      },
      "source": [
        "class MDP:\n",
        "    def __init__(self, numStates, numActions, p, c, d, alpha, stateDist=None):\n",
        "        \"\"\"temp[]\n",
        "        Reference:\n",
        "        Args:\n",
        "            numStates: integer, number of states of the MDP\n",
        "            numActions: integer, number of actions of the MDP\n",
        "            p: matrix, numStates-by-numActions-by-numStates probability \n",
        "                transition matrix of the MDP\n",
        "            r: matrix, numStates-by-numActions reward matrixof the MDP\n",
        "            stateDist: vector, 1-by-numState, the initial probability distribution\n",
        "                 over the states of the MDP, default is uniform distribution\n",
        "        Return:\n",
        "            A MDP object with the specified numStates, numActions, p, r\n",
        "            and stateDist\n",
        "        \"\"\"\n",
        "        \n",
        "        self.p = np.asarray(p)\n",
        "        self.c = c\n",
        "        self.d = d\n",
        "        self.alpha = alpha\n",
        "        \n",
        "        # The size of p is numStates by numActions by numStates\n",
        "        # p(s, a, s') denotes the probability to transit to state\n",
        "        # s' after taking action a at state s.\n",
        "        # As such, \\sum_i p(s, a, i) = 1\n",
        "        assert self.p.shape == (numStates, numActions, numStates), \\\n",
        "        \"The shape of the transition probabiliy matrix is incorrect!\"\n",
        "#         assert self.r.shape == (numStates, numActions), \\\n",
        "#         \"The shape of the reward matrix is incorrect!\"\n",
        "        for state in range(numStates):\n",
        "            for action in range(numActions):\n",
        "                probSum = 0\n",
        "                for nextState in range(numStates):\n",
        "                    probSum += p[state][action][nextState]\n",
        "                assert probSum == 1, \\\n",
        "                \"The sum of probabilities p({}, {}, )\".format(state, action) + \\\n",
        "                \" over all possible next staes not euqla to 1\"\n",
        "        \n",
        "        self.numStates = numStates\n",
        "        self.numActions = numActions\n",
        "        # The user can customize the prob distribution of states\n",
        "        # Otherwise, it is set to be uniform by default.\n",
        "        if stateDist:\n",
        "            self.stateDist = stateDist\n",
        "        else:\n",
        "            self.stateDist = np.ones(self.numStates) / self.numStates\n",
        "    \n",
        "    def set_state(self, state=None):\n",
        "        if state is None:\n",
        "            self.state = np.random.choice(self.numStates, p=self.stateDist)\n",
        "        else:\n",
        "            self.state = state\n",
        "        return self.state\n",
        "\n",
        "    def transit(self, action):\n",
        "        nextState = np.random.choice(self.numStates, p=self.p[self.state, action])\n",
        "        cost = self.c[self.state, action]\n",
        "        self.state = nextState\n",
        "        return nextState, cost"
      ],
      "execution_count": 12,
      "outputs": []
    },
    {
      "cell_type": "code",
      "metadata": {
        "id": "CO-9YaCFDIoZ"
      },
      "source": [
        "def extended_lp(env, pHat, p_conf, dsa, cost_sa, alpha, mu, timesteps):\n",
        "    ''', \n",
        "    Reference:\n",
        "        Figure 2 of the paper - Jaksch, Thomas, Ronald Ortner, and Peter Auer. \n",
        "        \"Near-optimal Regret Bounds for Reinforcement Learning.\" \n",
        "        Journal of Machine Learning Research 11, no. 4 (2010).\n",
        "    Args:\n",
        "        PsaHat: vector, MLE estimate for p(.|s, a)\n",
        "        PsaConfidenceBound: float, the confidence bound of PsaHat\n",
        "        statesSortByU: vector, states sorted by the descending order of u value\n",
        "        tolerance: float, the tolerance of the while loop in the inner maximization\n",
        "    Return:\n",
        "        Psa: vector, the optimistic transition probabilities p(.|s, a).\n",
        "        \n",
        "      zsa = extended_lp(env,pHat, pConfidenceBound, constraint_cost, cost, alpha,numStates, numActions, mu, timesteps, tolerance)\n",
        "\n",
        "    '''\n",
        "    \n",
        "    numStates, numActions = env.numStates, env.numActions\n",
        "\n",
        "    # Cost matrix for H timesteps\n",
        "    cvec_Mat = np.zeros((timesteps, numStates**2 * env.numActions))\n",
        "    \n",
        "    # p(s'|s,a) + \\beta(s,a,s')\n",
        "    qMat = pHat + p_conf\n",
        "    \n",
        "    # p(s'|s,a) - \\beta(s,a,s')\n",
        "    q_primeMat = pHat - p_conf\n",
        "\n",
        "    # Inquality constraint matrix corresponding to constraint 1\n",
        "    dvec_Mat = np.zeros((alpha.size, timesteps*numStates**2 * env.numActions))\n",
        "\n",
        "    for constr_id in range(alpha.size):\n",
        "      dvec_hsqa = np.zeros((timesteps, numStates**2 * env.numActions))\n",
        "      for i in range(timesteps):\n",
        "          # constraintMat is of dimension SxSA for each timestep          \n",
        "          constraintMat = np.tile(dsa[constr_id,:,:].reshape(1, dsa.shape[1]*dsa.shape[2]), (numStates, 1))          \n",
        "          dvec_hsqa[i, :] = np.reshape(constraintMat, numStates**2 * numActions, order='F')\n",
        "      # Update each row of constraint matrix with the vector of dimendion HS2A\n",
        "      dvec_Mat[constr_id, :] = np.reshape(dvec_hsqa.ravel(), (1, dvec_hsqa.shape[0]*dvec_hsqa.shape[1]))\n",
        "\n",
        "    # Inequality constraint matrix corresponding to constraint 2\n",
        "    Ah_eq = np.zeros((timesteps-1, timesteps * numStates**2 * env.numActions))\n",
        "\n",
        "    id = numStates**2 * numActions\n",
        "    \n",
        "    if timesteps == 1:\n",
        "      a =1\n",
        "    else:\n",
        "        for h in range(0, timesteps-1):                    \n",
        "            Ah_eq[h, h*id: (h+1)*id] = -1\n",
        "            Ah_eq[h, (h+1)*id: (h+2)*id] = 1\n",
        "\n",
        "    # Equality constraint matrix corresponding to constraint 3\n",
        "    A_eq = np.zeros((numStates, timesteps * numStates**2 * env.numActions))\n",
        "    for s in range(env.numStates):\n",
        "        A_eq[s, s*(numStates*numActions):(s+1)*(numStates*numActions)] = 1\n",
        "    \n",
        "    # Inequality constraint matrix corresponding to constraint 5\n",
        "    A_ubound = np.zeros((timesteps * numStates**2 * numActions, timesteps * numStates**2 * numActions))\n",
        "    \n",
        "    # Inequality constraint matrix corresponding to constraint 6\n",
        "    A_lbound = np.zeros((timesteps * numStates**2 * numActions, timesteps * numStates**2 * numActions))\n",
        "            \n",
        "        \n",
        "    \n",
        "    counter = 0\n",
        "    for i in range(timesteps):\n",
        "        for j in range(numStates):\n",
        "            for k in range(numActions):\n",
        "                for l in range(numStates):               \n",
        "                    \n",
        "                    for s_prime in range(-l, -l + numStates):\n",
        "                        \n",
        "                        A_ubound[counter, counter + s_prime] = -qMat[i,j,k,l + s_prime]\n",
        "                        A_lbound[counter, counter + s_prime] = q_primeMat[i,j,k,l + s_prime]\n",
        "                    # Update diagonal elements\n",
        "                    A_ubound[counter, counter] = 1-qMat[i,j,k,l]\n",
        "                    A_lbound[counter, counter] = -1+q_primeMat[i,j,k,l]\n",
        "                    \n",
        "                    counter += 1\n",
        "    \n",
        "\n",
        "    A_lbound = A_lbound.T\n",
        "    A_ubound = A_ubound.T\n",
        "\n",
        "    for h in range(timesteps):\n",
        "      temp = np.tile(cost_sa.reshape(1, cost_sa.shape[0]*cost_sa.shape[1]), (numStates, 1))\n",
        "      cvec_Mat[h, :] = np.reshape(temp, numStates**2 * env.numActions, order='F')  \n",
        "\n",
        "    # Coefficients of linear objective function    \n",
        "    # cost_vec = cvec_Mat.ravel()    \n",
        "    \n",
        "    # Define optimization variables    \n",
        "    c_final = cvec_Mat.ravel()\n",
        "\n",
        "    # Equality constraint vector corresponding to constraint 3\n",
        "    b_eq = np.concatenate((mu, np.zeros(timesteps-1)),axis=0)\n",
        "    \n",
        "\n",
        "    temp = np.reshape(np.asarray(alpha), (alpha.size,1))\n",
        "    # Inquality constraint vector corresponding to constraint 1\n",
        "    b_ub = np.concatenate((temp, np.zeros((2*numStates**2 * numActions*timesteps, 1))), axis=0)\n",
        "    \n",
        "    A_eq_final = np.concatenate((A_eq, Ah_eq), axis=0)\n",
        "    A_ub_final = np.concatenate((dvec_Mat, A_ubound, A_lbound), axis=0)\n",
        "    \n",
        "    res = linprog(c_final, A_eq=A_eq_final, b_eq=b_eq, A_ub=A_ub_final, b_ub=b_ub)\n",
        "    \n",
        "    return res.x"
      ],
      "execution_count": 13,
      "outputs": []
    },
    {
      "cell_type": "code",
      "metadata": {
        "id": "5zllXufEDIoc"
      },
      "source": [
        "def extended_value_iteration(env, timesteps, stateActionCounts, pHat, pConfidenceBound, cost, constraint_cost, alpha):\n",
        "    '''\n",
        "    Reference:\n",
        "        3.1.2 EXTENDED VALUE ITERATION of the paper - \n",
        "        Jaksch, Thomas, Ronald Ortner, and Peter Auer. \n",
        "        \"Near-optimal Regret Bounds for Reinforcement Learning.\" \n",
        "        Journal of Machine Learning Research 11, no. 4 (2010).\n",
        "    Args:\n",
        "        numStates: integer, number of states of the MDP\n",
        "        numActions: integer, number of actions of the MDP\n",
        "        pHat: matrix, MLE estimates of state-by-action-by-state transition probability matrix\n",
        "        pConfidenceBound: float, optimistic confidence bounds for pHat\n",
        "        rHat: matrix, MLE estimates of state-by-action rewards matrix\n",
        "        rConfidenceBound: float, optimistic confidence bounds for rHat\n",
        "        epsilon: float, the epsilon of Page 30 of the referenced slides below\n",
        "            https://www.math.univ-toulouse.fr/~agarivie/sites/default/files/saopaulo1010RL.pdf\n",
        "        tolerance: float, the tolerance of the while loop in the inner maximization\n",
        "    Return:\n",
        "        (pTilde, rTilde) - params that can determine the optimistic MDP Mk\n",
        "            pTilde: matrix, state-by-action-by-state transition probability matrix of Mk\n",
        "            rTilde: matrix, state-by-action reward matrix of Mk\n",
        "        piTilde: vector, optimal policy of Mk, piTilde[i] is the optimal action at state i\n",
        "    '''\n",
        "    \n",
        "    # Initiate state values u_0 in Eq (5) of the paper\n",
        "    # stateUDiff is the diference of values u u_{i}-u_{i-1}\n",
        "    # between two iterations\n",
        "    \n",
        "    \n",
        "    zHat = np.random.uniform(0, 1, (numStates, numActions, numStates))\n",
        "    for i in range(numActions):\n",
        "        zHat[:, i, :] =(zHat[:, i, :].T/np.sum(zHat[:, i, :], axis = 1)).T\n",
        "    \n",
        "    \n",
        "    # Initialized the state-action-state transition probability matrix pTilde\n",
        "    # and the optimal policy piTilde for the optimistic MDP\n",
        "    pTilde = np.zeros((timesteps,numStates, numActions, numStates))\n",
        "    piTilde = np.zeros((timesteps, numStates), dtype='int')\n",
        "\n",
        "    pi_vec = np.zeros((timesteps, numStates, numActions))\n",
        "    \n",
        "    #Prior distribution\n",
        "    mu = np.ones(numStates) / numStates\n",
        "    \n",
        "    zsa = extended_lp(env, pHat, pConfidenceBound, constraint_cost, cost, alpha, mu, timesteps)\n",
        "\n",
        "    '''\n",
        "    Calculate p(s'|s,a) and \\pi(a|s)\n",
        "    TBD: Vectorize code\n",
        "    '''\n",
        "    zMat = zsa.reshape(timesteps,numStates, numActions, numStates)\n",
        "    for h in range(timesteps):\n",
        "      for s in range(numStates):\n",
        "        pi_den = np.sum(zMat[h,s,:,:])\n",
        "        for a in range(numActions):\n",
        "          sum = np.sum(zMat[h,s,a,:])\n",
        "          pi_vec[h, s, a] = sum / pi_den\n",
        "          for y in range(numStates):\n",
        "            pTilde[h,s,a,y] = zMat[h,s,a,y] / sum\n",
        "\n",
        "    for h in range(timesteps):\n",
        "      for s in range(numStates):\n",
        "        piTilde[h,s] = np.argmax(pi_vec[h,s,:])\n",
        "\n",
        "    return piTilde, pTilde"
      ],
      "execution_count": 14,
      "outputs": []
    },
    {
      "cell_type": "code",
      "metadata": {
        "id": "yd8kQo-DDIof"
      },
      "source": [
        "def cmdp_algo(env, delta, timesteps, episode_length=5, initialState=None):\n",
        "    \n",
        "    numStates, numActions = env.numStates, env.numActions\n",
        "    t = 1\n",
        "    \n",
        "    # Initial state\n",
        "    state = env.set_state(initialState)\n",
        "    \n",
        "    # Model estimates\n",
        "    stateActionCounts = np.zeros((numStates, numActions))\n",
        "    stateActionCosts = np.zeros((numStates, numActions))\n",
        "    stateActionStateCounts = np.zeros((numStates, numActions, numStates))\n",
        "    \n",
        "    pHat = np.ones((numStates, numActions, numStates)) / numStates\n",
        "    pHat = np.repeat(pHat[np.newaxis, :, :, :], timesteps, axis=0) #Dimension HSAS'\n",
        "   \n",
        "    \n",
        "    for k in range(episode_length):\n",
        "        # Set the start time of episode k, Tk :=t.\n",
        "        Tk = t\n",
        "        \n",
        "        # For all (s,a) in S ×A initialize the state-action counts for episode k, Vk(s,a) := 0##\n",
        "        Vk = np.zeros((numStates, numActions))\n",
        "        \n",
        "        #pConfidenceBound = np.sqrt(np.multiply(pHat, 1-pHat) / np.clip(stateActionCounts, 1.0, None)) + (1 / np.clip(stateActionCounts, 1.0, None))\n",
        "        # Ensuring dimension of pConfidenceBound is HxSxAxS\n",
        "        temp = np.clip(stateActionCounts, 1.0, None)\n",
        "        pConfidenceBound = np.sqrt(np.multiply(pHat, 1-pHat) / np.repeat(temp[:, :, np.newaxis], pHat.shape[3], axis=pHat.shape[3])) + np.repeat((1 / temp)[:, :, np.newaxis], pHat.shape[3], axis=pHat.shape[3])\n",
        "\n",
        "        \n",
        "        PIk, Mk = extended_value_iteration(env, timesteps, stateActionCounts, pHat, pConfidenceBound, env.c, env.d, env.alpha)\n",
        "        \n",
        "        # Execute the policy\n",
        "        for h in range(timesteps):\n",
        "          action = PIk[h, state]\n",
        "          nextState, cost = env.transit(action)\n",
        "          yield (t, state, action, nextState, cost)   \n",
        "          Vk[state, action] += 1\n",
        "          stateActionCosts[state, action] += cost\n",
        "          stateActionStateCounts[state, action, nextState] += 1  \n",
        "          t += 1\n",
        "          state = nextState  \n",
        "          action = PIk[state]\n",
        "            \n",
        "          \n",
        "        pHat = Mk"
      ],
      "execution_count": 15,
      "outputs": []
    },
    {
      "cell_type": "code",
      "metadata": {
        "colab": {
          "base_uri": "https://localhost:8080/"
        },
        "id": "0h7E_ZkyVc8t",
        "outputId": "3d7a8e2a-14cd-4007-f606-dd4f649f2d39"
      },
      "source": [
        "theta = 0.1\n",
        "numStates = 2\n",
        "numActions = 2\n",
        "p = np.array([\n",
        "    [[1, 0], [.3, .7]],\n",
        "    [[0.1, 0.9], [.2, .8]]\n",
        "])\n",
        "print('Transition matrix shape',p.shape)\n",
        "\n",
        "c = np.reshape(np.array([[.5, .9], [.3, .6]]), (numStates*numActions,1))\n",
        "d = np.reshape(np.array([\n",
        "                         [[.4, .8], [.1, .3]],\n",
        "                         [[.25, .7], [.15, .8]]\n",
        "                         ]), (2,numStates*numActions,1))\n",
        "print(d.shape)\n",
        "alpha = np.array([0.5, .2])"
      ],
      "execution_count": 16,
      "outputs": [
        {
          "output_type": "stream",
          "text": [
            "Transition matrix shape (2, 2, 2)\n",
            "(2, 4, 1)\n"
          ],
          "name": "stdout"
        }
      ]
    },
    {
      "cell_type": "code",
      "metadata": {
        "colab": {
          "base_uri": "https://localhost:8080/"
        },
        "id": "EKtTFycbDIof",
        "scrolled": false,
        "outputId": "931b3289-c33b-480b-beb4-8b4bf087df08"
      },
      "source": [
        "experiments = []\n",
        "numSteps = 400\n",
        "numRepeats = 20\n",
        "timesteps = 1\n",
        "NUM_EPS = 60\n",
        "for i in range(numRepeats):\n",
        "    env = MDP(numStates, numActions, p, c, d, alpha)\n",
        "    transitions = cmdp_algo(env, delta=0.1, timesteps=1, episode_length=NUM_EPS, initialState=0)\n",
        "    \n",
        "    curtExp = []\n",
        "    for j in range(NUM_EPS):\n",
        "        (t, state, action, nxtState, cost) = transitions.__next__()\n",
        "        curtExp.append((t, state, action, nxtState, cost))\n",
        "    experiments.append(curtExp)\n"
      ],
      "execution_count": 7,
      "outputs": [
        {
          "output_type": "stream",
          "text": [
            "/usr/local/lib/python3.7/dist-packages/numpy/core/fromnumeric.py:87: VisibleDeprecationWarning: Creating an ndarray from ragged nested sequences (which is a list-or-tuple of lists-or-tuples-or ndarrays with different lengths or shapes) is deprecated. If you meant to do this, you must specify 'dtype=object' when creating the ndarray\n",
            "  return ufunc.reduce(obj, axis, dtype, out, **passkwargs)\n"
          ],
          "name": "stderr"
        }
      ]
    },
    {
      "cell_type": "code",
      "metadata": {
        "id": "EHtf2AvMDIog"
      },
      "source": [
        "cumRegrets = np.zeros([numRepeats, numSteps])\n",
        "perStepRegrets = np.zeros([numRepeats, numSteps])\n",
        "optimalCost = 0.0\n",
        "\n",
        "for i in range(numRepeats):\n",
        "    cumRegret = 0.0\n",
        "    for j in range(NUM_EPS):\n",
        "        (t, state, action, nxtState, cost) = experiments[i][j]\n",
        "        cumRegret += cost - optimalCost\n",
        "        cumRegrets[i, j] = cumRegret\n",
        "        perStepRegrets[i, j] = cumRegret / t"
      ],
      "execution_count": 8,
      "outputs": []
    },
    {
      "cell_type": "code",
      "metadata": {
        "id": "cN1n-mlzDIog",
        "colab": {
          "base_uri": "https://localhost:8080/",
          "height": 283
        },
        "outputId": "39e483df-006c-4bbb-af73-b89dd9b423c7"
      },
      "source": [
        "plt.plot(cumRegrets.mean(axis=0))"
      ],
      "execution_count": 9,
      "outputs": [
        {
          "output_type": "execute_result",
          "data": {
            "text/plain": [
              "[<matplotlib.lines.Line2D at 0x7f91a55bf650>]"
            ]
          },
          "metadata": {
            "tags": []
          },
          "execution_count": 9
        },
        {
          "output_type": "display_data",
          "data": {
            "image/png": "[encoded data removed]",
            "text/plain": [
              "<Figure size 432x288 with 1 Axes>"
            ]
          },
          "metadata": {
            "tags": [],
            "needs_background": "light"
          }
        }
      ]
    },
    {
      "cell_type": "code",
      "metadata": {
        "id": "rSFMcnsbDIoh",
        "colab": {
          "base_uri": "https://localhost:8080/",
          "height": 283
        },
        "outputId": "70f2695d-af70-4f1b-90d3-5c6823aa676a"
      },
      "source": [
        "plt.plot(perStepRegrets.mean(axis=0))"
      ],
      "execution_count": 10,
      "outputs": [
        {
          "output_type": "execute_result",
          "data": {
            "text/plain": [
              "[<matplotlib.lines.Line2D at 0x7f91a50aed10>]"
            ]
          },
          "metadata": {
            "tags": []
          },
          "execution_count": 10
        },
        {
          "output_type": "display_data",
          "data": {
            "image/png": "[encoded data removed]",
            "text/plain": [
              "<Figure size 432x288 with 1 Axes>"
            ]
          },
          "metadata": {
            "tags": [],
            "needs_background": "light"
          }
        }
      ]
    },
    {
      "cell_type": "code",
      "metadata": {
        "id": "NenyZM-ejva5"
      },
      "source": [
        ""
      ],
      "execution_count": 16,
      "outputs": []
    }
  ]
}